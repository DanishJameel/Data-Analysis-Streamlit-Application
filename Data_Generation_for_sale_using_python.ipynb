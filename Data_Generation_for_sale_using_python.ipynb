{
  "nbformat": 4,
  "nbformat_minor": 0,
  "metadata": {
    "colab": {
      "provenance": []
    },
    "kernelspec": {
      "name": "python3",
      "display_name": "Python 3"
    },
    "language_info": {
      "name": "python"
    }
  },
  "cells": [
    {
      "cell_type": "code",
      "source": [
        "# Import the Important Librarries \n",
        "import pandas as pd\n",
        "import numpy as np\n",
        "import random\n",
        "\n",
        "# Generate a random date range for the sales data\n",
        "date_rng = pd.date_range(start='1/1/2020', end='12/31/2022', freq='M')\n",
        "\n",
        "# Create a list of product names\n",
        "products = ['Product A', 'Product B', 'Product C', 'Product D', 'Product E']\n",
        "\n",
        "# Create a list of regions\n",
        "regions = ['Region 1', 'Region 2', 'Region 3', 'Region 4', 'Region 5']\n",
        "\n",
        "# Create a DataFrame to store the sales data\n",
        "sales_data = pd.DataFrame(date_rng, columns=['date'])\n",
        "sales_data['product'] = [random.choice(products) for i in range(len(sales_data))]\n",
        "sales_data['region'] = [random.choice(regions) for i in range(len(sales_data))]\n",
        "sales_data['sales'] = np.random.randint(1000, 10000, size=(len(sales_data)))\n",
        "\n",
        "# Save the generated sales data to a CSV file\n",
        "sales_data.to_csv('sales_data.csv', index=False)"
      ],
      "metadata": {
        "id": "SY01U0a29Bjq"
      },
      "execution_count": 3,
      "outputs": []
    },
    {
      "cell_type": "code",
      "source": [],
      "metadata": {
        "id": "_dJxzaUZB2bP"
      },
      "execution_count": null,
      "outputs": []
    }
  ]
}